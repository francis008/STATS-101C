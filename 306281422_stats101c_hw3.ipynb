{
 "cells": [
  {
   "cell_type": "code",
   "execution_count": 1,
   "metadata": {},
   "outputs": [],
   "source": [
    "import pandas as pd\n",
    "import numpy as np\n",
    "import matplotlib.pyplot as plt\n",
    "from sklearn import datasets\n",
    "from sklearn.model_selection import train_test_split\n",
    "from sklearn.metrics import accuracy_score\n",
    "from sklearn.tree import DecisionTreeClassifier\n",
    "from sklearn.ensemble import BaggingClassifier, RandomForestClassifier, GradientBoostingClassifier\n",
    "\n",
    "\n",
    "data = pd.read_csv(\"banknote.csv\", header=None)\n",
    "dataset = np.array(data)\n",
    "\n",
    "X = dataset[:, 0:4] \n",
    "#X_1 = (X[:, 0] - X[:, 0].mean()) / X[:, 0].std()\n",
    "#X_2 = (X[:, 1] - X[:, 1].mean()) / X[:, 1].std()\n",
    "y = dataset[:, 4]\n",
    "\n",
    "\n"
   ]
  },
  {
   "cell_type": "code",
   "execution_count": 2,
   "metadata": {},
   "outputs": [],
   "source": [
    "# Split the data into train and test sets\n",
    "X_train, X_test, y_train, y_test = train_test_split(X, y, test_size=0.3, random_state=22)\n"
   ]
  },
  {
   "cell_type": "code",
   "execution_count": 3,
   "metadata": {},
   "outputs": [
    {
     "name": "stdout",
     "output_type": "stream",
     "text": [
      "Decision Tree\n",
      "Train data accuracy: 0.9895833333333334\n",
      "Test data accuracy: 0.9635922330097088\n",
      "Test Error Rate: 0.036407766990291246\n"
     ]
    }
   ],
   "source": [
    "# Step 1: Evaluate the base classifier (Decision Tree)\n",
    "dtree = DecisionTreeClassifier(max_depth=5, random_state=22)\n",
    "dtree.fit(X_train, y_train)\n",
    "\n",
    "# Predict and evaluate the Decision Tree model\n",
    "y_pred_dt = dtree.predict(X_test)\n",
    "print(\"Decision Tree\")\n",
    "print(\"Train data accuracy:\", accuracy_score(y_true=y_train, y_pred=dtree.predict(X_train)))\n",
    "print(\"Test data accuracy:\", accuracy_score(y_true=y_test, y_pred=y_pred_dt))\n",
    "print(\"Test Error Rate:\", 1 - accuracy_score(y_true=y_test, y_pred=y_pred_dt))\n"
   ]
  },
  {
   "cell_type": "code",
   "execution_count": 4,
   "metadata": {},
   "outputs": [
    {
     "name": "stdout",
     "output_type": "stream",
     "text": [
      "Random Forest\n",
      "Train data accuracy: 0.990625\n",
      "Test data accuracy: 0.9951456310679612\n",
      "Test Error Rate: 0.004854368932038833\n"
     ]
    }
   ],
   "source": [
    "random_forest = RandomForestClassifier(n_estimators=51, max_depth=5, random_state=22)\n",
    "random_forest.fit(X_train, y_train)\n",
    "\n",
    "# Predict and evaluate the Random Forest model\n",
    "y_pred_rf = random_forest.predict(X_test)\n",
    "print(\"Random Forest\")\n",
    "print(\"Train data accuracy:\", accuracy_score(y_true=y_train, y_pred=random_forest.predict(X_train)))\n",
    "print(\"Test data accuracy:\", accuracy_score(y_true=y_test, y_pred=y_pred_rf))\n",
    "print(\"Test Error Rate:\", 1 - accuracy_score(y_true=y_test, y_pred=y_pred_rf))\n"
   ]
  },
  {
   "cell_type": "code",
   "execution_count": 5,
   "metadata": {},
   "outputs": [
    {
     "name": "stdout",
     "output_type": "stream",
     "text": [
      "Gradient Boosting\n",
      "Train data accuracy: 1.0\n",
      "Test data accuracy: 0.9927184466019418\n",
      "Test Error Rate: 0.007281553398058249\n"
     ]
    }
   ],
   "source": [
    "boosting = GradientBoostingClassifier(n_estimators=51, max_depth=5, random_state=22)\n",
    "boosting.fit(X_train, y_train)\n",
    "y_pred_boost = boosting.predict(X_test)\n",
    "print(\"Gradient Boosting\")\n",
    "print(\"Train data accuracy:\", accuracy_score(y_true=y_train, y_pred=boosting.predict(X_train)))\n",
    "print(\"Test data accuracy:\", accuracy_score(y_true=y_test, y_pred=y_pred_boost))\n",
    "print(\"Test Error Rate:\", 1 - accuracy_score(y_true=y_test, y_pred=y_pred_boost))"
   ]
  },
  {
   "cell_type": "markdown",
   "metadata": {},
   "source": [
    "Both Random Forest and Boosting models have significantly low test error compared to Decision Tree model. This suggests that Random Forest and Boosting generalize better on the dataset. "
   ]
  }
 ],
 "metadata": {
  "kernelspec": {
   "display_name": "Python 3",
   "language": "python",
   "name": "python3"
  },
  "language_info": {
   "codemirror_mode": {
    "name": "ipython",
    "version": 3
   },
   "file_extension": ".py",
   "mimetype": "text/x-python",
   "name": "python",
   "nbconvert_exporter": "python",
   "pygments_lexer": "ipython3",
   "version": "3.10.9"
  }
 },
 "nbformat": 4,
 "nbformat_minor": 2
}
